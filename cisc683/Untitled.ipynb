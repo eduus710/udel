{
 "cells": [
  {
   "cell_type": "code",
   "execution_count": 2,
   "metadata": {},
   "outputs": [
    {
     "name": "stdout",
     "output_type": "stream",
     "text": [
      "[105, 110, 115, 120, 140]\n",
      "[146, 150, 156, 160, 165]\n",
      "[171, 171, 172, 172, 173]\n",
      "[175, 180, 184, 185]\n"
     ]
    }
   ],
   "source": [
    "import math\n",
    "\n",
    "#equal frequency \n",
    "def equifreq(arr1, m): \n",
    "\n",
    "    a = len(arr1) \n",
    "    n = math.ceil(a / m) \n",
    "    for i in range(0, m): \n",
    "        arr = [] \n",
    "        for j in range(i * n, (i + 1) * n): \n",
    "            if j >= a: \n",
    "                break\n",
    "            arr = arr + [arr1[j]] \n",
    "        print(arr)\n",
    "\n",
    "values = [105,\n",
    "110,\n",
    "115,\n",
    "120,\n",
    "140,\n",
    "146,\n",
    "150,\n",
    "156,\n",
    "160,\n",
    "165,\n",
    "171,\n",
    "171,\n",
    "172,\n",
    "172,\n",
    "173,\n",
    "175,\n",
    "180,\n",
    "184,\n",
    "185]\n",
    "\n",
    "equifreq(values, 4)\n",
    "        \n"
   ]
  },
  {
   "cell_type": "code",
   "execution_count": null,
   "metadata": {},
   "outputs": [],
   "source": []
  }
 ],
 "metadata": {
  "kernelspec": {
   "display_name": "Python 3",
   "language": "python",
   "name": "python3"
  },
  "language_info": {
   "codemirror_mode": {
    "name": "ipython",
    "version": 3
   },
   "file_extension": ".py",
   "mimetype": "text/x-python",
   "name": "python",
   "nbconvert_exporter": "python",
   "pygments_lexer": "ipython3",
   "version": "3.7.3"
  }
 },
 "nbformat": 4,
 "nbformat_minor": 2
}
