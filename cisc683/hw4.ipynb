{
 "cells": [
  {
   "cell_type": "code",
   "execution_count": 20,
   "metadata": {},
   "outputs": [
    {
     "name": "stdout",
     "output_type": "stream",
     "text": [
      "processed: 0.46984760298623823 6/14\n",
      "processed: 0.7140717115851802 2/14\n",
      "processed: 0.46984760298623823 6/14\n"
     ]
    },
    {
     "data": {
      "text/plain": [
       "0.5047367613575157"
      ]
     },
     "execution_count": 20,
     "metadata": {},
     "output_type": "execute_result"
    }
   ],
   "source": [
    "import math\n",
    "\n",
    "def bound(e, n, z, sign):\n",
    "    return (e + (z*z)/(2*n) + (sign)*z*math.sqrt(e/n - (e*e)/n + (z*z)/(4*n*n)))/(1 + (z*z)/n)\n",
    "\n",
    "def pessimistic_error(e, n, z):\n",
    "    return (bound(e, n, z, 1))\n",
    "\n",
    "def weighted_pe(errors, z):\n",
    "    wpe = 0\n",
    "    n_all = sum([n for (e,n) in errors])\n",
    "    for (e,n) in errors:\n",
    "        pe = pessimistic_error(e, n, z)\n",
    "        wpe += pe * (n/n_all)\n",
    "        print(f'processed: {pe} {n}/{n_all}')\n",
    "    return wpe\n",
    "\n",
    "def success_bounds(s, n, z):\n",
    "    f = s/n\n",
    "    return (bound(f, n, z, -1), bound(f, n, z, 1))\n",
    "    \n",
    "#pessimistic_error(1/2, 2, .67)\n",
    "weighted_pe([(1/3, 6), (1/2, 2), (1/3, 6)], .67)"
   ]
  },
  {
   "cell_type": "code",
   "execution_count": 21,
   "metadata": {
    "scrolled": true
   },
   "outputs": [
    {
     "name": "stdout",
     "output_type": "stream",
     "text": [
      "processed: 0.5587820800324188 31/80\n",
      "processed: 0.462679782813702 38/80\n",
      "processed: 0.39662599528634124 11/80\n"
     ]
    },
    {
     "data": {
      "text/plain": [
       "0.49083702720094263"
      ]
     },
     "execution_count": 21,
     "metadata": {},
     "output_type": "execute_result"
    }
   ],
   "source": [
    "weighted_pe([(15/31, 31),(15/38, 38),(3/11, 11)], .84)"
   ]
  },
  {
   "cell_type": "code",
   "execution_count": 22,
   "metadata": {
    "scrolled": true
   },
   "outputs": [
    {
     "name": "stdout",
     "output_type": "stream",
     "text": [
      "processed: 0.4718831235295983 80/80\n"
     ]
    },
    {
     "data": {
      "text/plain": [
       "0.4718831235295983"
      ]
     },
     "execution_count": 22,
     "metadata": {},
     "output_type": "execute_result"
    }
   ],
   "source": [
    "weighted_pe([(34/80, 80)], .84)"
   ]
  },
  {
   "cell_type": "code",
   "execution_count": 23,
   "metadata": {},
   "outputs": [
    {
     "data": {
      "text/plain": [
       "(0.8218411399265311, 0.844224729775116)"
      ]
     },
     "execution_count": 23,
     "metadata": {},
     "output_type": "execute_result"
    }
   ],
   "source": [
    "success_bounds(2500, 3000, 1.645)"
   ]
  }
 ],
 "metadata": {
  "kernelspec": {
   "display_name": "Python 3",
   "language": "python",
   "name": "python3"
  },
  "language_info": {
   "codemirror_mode": {
    "name": "ipython",
    "version": 3
   },
   "file_extension": ".py",
   "mimetype": "text/x-python",
   "name": "python",
   "nbconvert_exporter": "python",
   "pygments_lexer": "ipython3",
   "version": "3.7.3"
  }
 },
 "nbformat": 4,
 "nbformat_minor": 2
}
